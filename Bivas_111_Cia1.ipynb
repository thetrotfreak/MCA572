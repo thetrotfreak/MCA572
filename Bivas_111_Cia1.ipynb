{
  "nbformat": 4,
  "nbformat_minor": 0,
  "metadata": {
    "colab": {
      "provenance": [],
      "gpuType": "T4"
    },
    "kernelspec": {
      "name": "python3",
      "display_name": "Python 3"
    },
    "language_info": {
      "name": "python"
    },
    "accelerator": "GPU"
  },
  "cells": [
    {
      "cell_type": "markdown",
      "source": [
        "# CIA 1\n",
        "\n",
        "> Bivas Kumar 2347111"
      ],
      "metadata": {
        "id": "vQwRS_v_7MeP"
      }
    },
    {
      "cell_type": "markdown",
      "source": [
        "## 1"
      ],
      "metadata": {
        "id": "tBc9d1xi7SV6"
      }
    },
    {
      "cell_type": "code",
      "source": [
        "import numpy as np\n",
        "\n",
        "# Inputs for XOR gate\n",
        "X = np.array([[0, 0], [0, 1], [1, 0], [1, 1]])\n",
        "\n",
        "# Outputs for XOR gate\n",
        "y = np.array([0, 1, 1, 0])"
      ],
      "metadata": {
        "id": "bje2E78Y7xuY"
      },
      "execution_count": 1,
      "outputs": []
    },
    {
      "cell_type": "code",
      "source": [
        "from sklearn.linear_model import Perceptron\n",
        "from sklearn.metrics import accuracy_score\n",
        "\n",
        "# Create a Perceptron model (Single Layer)\n",
        "perceptron = Perceptron()\n",
        "\n",
        "# Train the Perceptron model on the XOR dataset\n",
        "perceptron.fit(X, y)\n",
        "\n",
        "# Predict using the trained Perceptron model\n",
        "y_pred_single_layer = perceptron.predict(X)\n",
        "\n",
        "# Display the predictions\n",
        "print(\"Single Layer Perceptron Predictions:\", y_pred_single_layer)\n",
        "\n",
        "# Calculate the accuracy\n",
        "accuracy_single_layer = accuracy_score(y, y_pred_single_layer)\n",
        "print(f\"Single Layer Perceptron Accuracy: {accuracy_single_layer * 100:.2f}%\")"
      ],
      "metadata": {
        "colab": {
          "base_uri": "https://localhost:8080/"
        },
        "id": "ZpYfDaot78Vn",
        "outputId": "429e0c2c-996f-41db-e462-a3c20523c218"
      },
      "execution_count": 22,
      "outputs": [
        {
          "output_type": "stream",
          "name": "stdout",
          "text": [
            "Single Layer Perceptron Predictions: [0 0 0 0]\n",
            "Single Layer Perceptron Accuracy: 50.00%\n"
          ]
        },
        {
          "output_type": "stream",
          "name": "stderr",
          "text": [
            "/usr/local/lib/python3.10/dist-packages/sklearn/utils/validation.py:1339: DataConversionWarning: A column-vector y was passed when a 1d array was expected. Please change the shape of y to (n_samples, ), for example using ravel().\n",
            "  y = column_or_1d(y, warn=True)\n"
          ]
        }
      ]
    },
    {
      "cell_type": "markdown",
      "source": [
        "> **Observation**\n",
        "\n",
        "- The accuracy of the Single Layer Perceptron (SLP) is low ~$50\\%$ because it cannot classify the $XOR$ problem properly due to the non-linearly separable nature of $XOR$.\n",
        "- A SLP fails to capture the mutual exclusive nature of inputs (for output, $1$) using only $1$ activation function."
      ],
      "metadata": {
        "id": "ZaK5-wXD8REK"
      }
    },
    {
      "cell_type": "code",
      "source": [
        "# Sigmoid activation function\n",
        "def sigmoid(x):\n",
        "    return 1 / (1 + np.exp(-x))\n",
        "\n",
        "# Derivative of sigmoid function (for backpropagation)\n",
        "def sigmoid_derivative(x):\n",
        "    return x * (1 - x)\n",
        "\n",
        "# Seed for reproducibility\n",
        "np.random.seed(111)\n",
        "\n",
        "# Number of inputs, hidden neurons, and outputs\n",
        "input_layer_neurons = 2   # XOR has 2 inputs\n",
        "hidden_layer_neurons = 2  # 2 neurons in the hidden layer\n",
        "output_neurons = 1        # XOR has 1 output\n",
        "\n",
        "# Initialize weights and biases\n",
        "weights_input_hidden = np.random.uniform(size=(input_layer_neurons, hidden_layer_neurons))\n",
        "weights_hidden_output = np.random.uniform(size=(hidden_layer_neurons, output_neurons))\n",
        "bias_hidden = np.random.uniform(size=(1, hidden_layer_neurons))\n",
        "bias_output = np.random.uniform(size=(1, output_neurons))\n",
        "\n",
        "print(\"Initial weights (input -> hidden):\\n\", weights_input_hidden)\n",
        "print(\"Initial weights (hidden -> output):\\n\", weights_hidden_output)\n",
        "\n",
        "# Define learning rate and number of iterations\n",
        "learning_rate = 0.1\n",
        "epochs = 10000\n",
        "\n",
        "# Training the neural network\n",
        "for epoch in range(epochs):\n",
        "\n",
        "    # Forward Propagation\n",
        "    # Input -> Hidden\n",
        "    hidden_layer_input = np.dot(X, weights_input_hidden) + bias_hidden\n",
        "    hidden_layer_activation = sigmoid(hidden_layer_input)\n",
        "\n",
        "    # Hidden -> Output\n",
        "    output_layer_input = np.dot(hidden_layer_activation, weights_hidden_output) + bias_output\n",
        "    predicted_output = sigmoid(output_layer_input)\n",
        "\n",
        "    # Backpropagation\n",
        "    # Error at output\n",
        "    error_output = y - predicted_output\n",
        "    d_predicted_output = error_output * sigmoid_derivative(predicted_output)\n",
        "\n",
        "    # Error at hidden layer\n",
        "    error_hidden_layer = d_predicted_output.dot(weights_hidden_output.T)\n",
        "    d_hidden_layer = error_hidden_layer * sigmoid_derivative(hidden_layer_activation)\n",
        "\n",
        "    # Update weights and biases\n",
        "    weights_hidden_output += hidden_layer_activation.T.dot(d_predicted_output) * learning_rate\n",
        "    weights_input_hidden += X.T.dot(d_hidden_layer) * learning_rate\n",
        "    bias_output += np.sum(d_predicted_output, axis=0, keepdims=True) * learning_rate\n",
        "    bias_hidden += np.sum(d_hidden_layer, axis=0, keepdims=True) * learning_rate\n",
        "\n",
        "    # Optional: Print error every 1000 epochs to observe convergence\n",
        "    if epoch % 1000 == 0:\n",
        "        print(f\"Epoch {epoch}, Error: {np.mean(np.abs(error_output))}\")\n",
        "\n",
        "# After training, print final output\n",
        "print(\"Final predicted output after training:\\n\", predicted_output)\n"
      ],
      "metadata": {
        "colab": {
          "base_uri": "https://localhost:8080/"
        },
        "id": "46cFdd0QASZu",
        "outputId": "6202819d-bb97-4627-88c1-dba1149b68c6"
      },
      "execution_count": 25,
      "outputs": [
        {
          "output_type": "stream",
          "name": "stdout",
          "text": [
            "Initial weights (input -> hidden):\n",
            " [[0.61217018 0.16906975]\n",
            " [0.43605902 0.76926247]]\n",
            "Initial weights (hidden -> output):\n",
            " [[0.2953253 ]\n",
            " [0.14916296]]\n",
            "Epoch 0, Error: 0.4995960955247929\n",
            "Epoch 1000, Error: 0.499576470011457\n",
            "Epoch 2000, Error: 0.4971980202065689\n",
            "Epoch 3000, Error: 0.4729817660207706\n",
            "Epoch 4000, Error: 0.400552548799779\n",
            "Epoch 5000, Error: 0.33909586356415977\n",
            "Epoch 6000, Error: 0.17858893774969095\n",
            "Epoch 7000, Error: 0.11296738341071344\n",
            "Epoch 8000, Error: 0.08610672553231848\n",
            "Epoch 9000, Error: 0.07140620119922343\n",
            "Final predicted output after training:\n",
            " [[0.06376846]\n",
            " [0.94070391]\n",
            " [0.94013505]\n",
            " [0.06501998]]\n"
          ]
        }
      ]
    },
    {
      "cell_type": "markdown",
      "source": [
        "> **Observation**\n",
        "\n",
        "- This has ~$1$ as output for the correct inputs"
      ],
      "metadata": {
        "id": "Hpy82FPvN9YR"
      }
    },
    {
      "cell_type": "markdown",
      "source": [
        "## 2A"
      ],
      "metadata": {
        "id": "Gx7C__847T6l"
      }
    },
    {
      "cell_type": "markdown",
      "source": [
        "### Load & Process"
      ],
      "metadata": {
        "id": "hVBTBtTkDWKB"
      }
    },
    {
      "cell_type": "code",
      "source": [
        "import pandas as pd\n",
        "from sklearn.model_selection import train_test_split\n",
        "from sklearn.feature_extraction.text import CountVectorizer\n",
        "from sklearn.preprocessing import LabelBinarizer\n",
        "from sklearn.utils import shuffle\n",
        "\n",
        "# Load the dataset\n",
        "file_path = \"/content/Tweets.csv\"\n",
        "data = pd.read_csv(file_path, on_bad_lines='skip')\n",
        "\n",
        "# Filter only relevant columns: 'text' and 'airline_sentiment'\n",
        "df = data[['text', 'airline_sentiment']]\n",
        "\n",
        "# Drop rows with missing values\n",
        "df.dropna(subset=['text', 'airline_sentiment'], inplace=True)\n",
        "\n",
        "# Remove neutral sentiments (if you want to simplify to binary classification)\n",
        "df = df[df['airline_sentiment'] != 'neutral']\n",
        "\n",
        "# Convert 'airline_sentiment' to binary (1 for positive, 0 for negative)\n",
        "df['sentiment'] = df['airline_sentiment'].apply(lambda x: 1 if x == 'positive' else 0)\n",
        "\n",
        "# Shuffle the data to ensure randomness\n",
        "df = shuffle(df, random_state=42)\n",
        "\n",
        "# Split into features (X) and labels (y)\n",
        "X = df['text'].values\n",
        "y = df['sentiment'].values\n",
        "\n",
        "# Vectorize text data into numerical format using CountVectorizer\n",
        "vectorizer = CountVectorizer(max_features=1000, stop_words='english')\n",
        "X = vectorizer.fit_transform(X).toarray()\n",
        "\n",
        "# Split into training and test sets\n",
        "X_train, X_test, y_train, y_test = train_test_split(X, y, test_size=0.2, random_state=42)\n",
        "\n",
        "print(f\"Training data shape: {X_train.shape}\")\n",
        "print(f\"Test data shape: {X_test.shape}\")"
      ],
      "metadata": {
        "colab": {
          "base_uri": "https://localhost:8080/"
        },
        "id": "UdbkG7YLDYZI",
        "outputId": "21d7e7c5-398f-4276-9d30-0f9a4f0d2e9a"
      },
      "execution_count": 1,
      "outputs": [
        {
          "output_type": "stream",
          "name": "stderr",
          "text": [
            "<ipython-input-1-b90de472173c>:15: SettingWithCopyWarning: \n",
            "A value is trying to be set on a copy of a slice from a DataFrame\n",
            "\n",
            "See the caveats in the documentation: https://pandas.pydata.org/pandas-docs/stable/user_guide/indexing.html#returning-a-view-versus-a-copy\n",
            "  df.dropna(subset=['text', 'airline_sentiment'], inplace=True)\n"
          ]
        },
        {
          "output_type": "stream",
          "name": "stdout",
          "text": [
            "Training data shape: (9232, 1000)\n",
            "Test data shape: (2309, 1000)\n"
          ]
        }
      ]
    },
    {
      "cell_type": "code",
      "source": [
        "import numpy as np\n",
        "\n",
        "# Define the Neural Network Class\n",
        "class SimpleNN:\n",
        "    def __init__(self, input_size, hidden_size, output_size, activation='sigmoid'):\n",
        "        # Initialize weights and biases\n",
        "        self.W1 = np.random.randn(input_size, hidden_size) * 0.01\n",
        "        self.b1 = np.zeros((1, hidden_size))\n",
        "        self.W2 = np.random.randn(hidden_size, output_size) * 0.01\n",
        "        self.b2 = np.zeros((1, output_size))\n",
        "\n",
        "        # Choose activation function\n",
        "        if activation == 'sigmoid':\n",
        "            self.activation = self.sigmoid\n",
        "            self.activation_derivative = self.sigmoid_derivative\n",
        "        elif activation == 'relu':\n",
        "            self.activation = self.relu\n",
        "            self.activation_derivative = self.relu_derivative\n",
        "        elif activation == 'tanh':\n",
        "            self.activation = self.tanh\n",
        "            self.activation_derivative = self.tanh_derivative\n",
        "\n",
        "    # Activation functions\n",
        "    def sigmoid(self, z):\n",
        "        return 1 / (1 + np.exp(-z))\n",
        "\n",
        "    def sigmoid_derivative(self, a):\n",
        "        return a * (1 - a)\n",
        "\n",
        "    def relu(self, z):\n",
        "        return np.maximum(0, z)\n",
        "\n",
        "    def relu_derivative(self, a):\n",
        "        return np.where(a <= 0, 0, 1)\n",
        "\n",
        "    def tanh(self, z):\n",
        "        return np.tanh(z)\n",
        "\n",
        "    def tanh_derivative(self, a):\n",
        "        return 1 - np.power(a, 2)\n",
        "\n",
        "    # Forward pass\n",
        "    def forward(self, X):\n",
        "        self.Z1 = np.dot(X, self.W1) + self.b1\n",
        "        self.A1 = self.activation(self.Z1)\n",
        "        self.Z2 = np.dot(self.A1, self.W2) + self.b2\n",
        "        self.A2 = self.sigmoid(self.Z2)  # Output activation (sigmoid for binary classification)\n",
        "        return self.A2\n",
        "\n",
        "    # Backward pass (Gradient Descent)\n",
        "    def backward(self, X, y, output, learning_rate=0.01):\n",
        "        m = X.shape[0]  # Number of samples\n",
        "\n",
        "        # Calculate output layer error\n",
        "        dZ2 = output - y.reshape(-1, 1)\n",
        "        dW2 = np.dot(self.A1.T, dZ2) / m\n",
        "        db2 = np.sum(dZ2, axis=0, keepdims=True) / m\n",
        "\n",
        "        # Backpropagate through hidden layer\n",
        "        dA1 = np.dot(dZ2, self.W2.T)\n",
        "        dZ1 = dA1 * self.activation_derivative(self.A1)\n",
        "        dW1 = np.dot(X.T, dZ1) / m\n",
        "        db1 = np.sum(dZ1, axis=0, keepdims=True) / m\n",
        "\n",
        "        # Update weights and biases\n",
        "        self.W2 -= learning_rate * dW2\n",
        "        self.b2 -= learning_rate * db2\n",
        "        self.W1 -= learning_rate * dW1\n",
        "        self.b1 -= learning_rate * db1\n",
        "\n",
        "    # Training function\n",
        "    def train(self, X, y, epochs=1000, learning_rate=0.01):\n",
        "        losses = []\n",
        "        for epoch in range(epochs):\n",
        "            # Forward propagation\n",
        "            output = self.forward(X)\n",
        "\n",
        "            # Calculate loss (Binary Cross-Entropy)\n",
        "            loss = -(1 / len(y)) * np.sum(y * np.log(output) + (1 - y) * np.log(1 - output))\n",
        "            losses.append(loss)\n",
        "\n",
        "            # Backward propagation and weight update\n",
        "            self.backward(X, y, output, learning_rate)\n",
        "\n",
        "            if epoch % 100 == 0:\n",
        "                print(f\"Epoch {epoch}, Loss: {loss}\")\n",
        "\n",
        "        return losses\n",
        "\n",
        "    # Prediction function\n",
        "    def predict(self, X):\n",
        "        probabilities = self.forward(X)\n",
        "        return [1 if p >= 0.5 else 0 for p in probabilities]\n",
        "\n",
        "    # Accuracy calculation\n",
        "    def accuracy(self, X, y):\n",
        "        predictions = self.predict(X)\n",
        "        accuracy = np.mean(predictions == y)\n",
        "        return accuracy\n"
      ],
      "metadata": {
        "id": "LjRl-Q6JGTFj"
      },
      "execution_count": 2,
      "outputs": []
    },
    {
      "cell_type": "code",
      "source": [
        "# Instantiate the model\n",
        "input_size = X_train.shape[1]  # Number of features\n",
        "hidden_size = 10  # Number of neurons in the hidden layer\n",
        "output_size = 1   # Binary classification (positive/negative)\n",
        "\n",
        "nn_sigmoid = SimpleNN(input_size, hidden_size, output_size, activation='sigmoid')\n",
        "nn_relu = SimpleNN(input_size, hidden_size, output_size, activation='relu')\n",
        "nn_tanh = SimpleNN(input_size, hidden_size, output_size, activation='tanh')\n",
        "\n",
        "# Train the models\n",
        "loss_sigmoid = nn_sigmoid.train(X_train, y_train, epochs=50, learning_rate=0.01)\n",
        "loss_relu = nn_relu.train(X_train, y_train, epochs=50, learning_rate=0.01)\n",
        "loss_tanh = nn_tanh.train(X_train, y_train, epochs=50, learning_rate=0.01)\n",
        "\n",
        "# Evaluate models on the test set\n",
        "accuracy_sigmoid = nn_sigmoid.accuracy(X_test, y_test)\n",
        "accuracy_relu = nn_relu.accuracy(X_test, y_test)\n",
        "accuracy_tanh = nn_tanh.accuracy(X_test, y_test)\n",
        "\n",
        "print(f\"Sigmoid Activation Test Accuracy: {accuracy_sigmoid}\")\n",
        "print(f\"ReLU Activation Test Accuracy: {accuracy_relu}\")\n",
        "print(f\"Tanh Activation Test Accuracy: {accuracy_tanh}\")\n"
      ],
      "metadata": {
        "colab": {
          "base_uri": "https://localhost:8080/"
        },
        "id": "gZE-gHY-Ghex",
        "outputId": "ba8fce7f-c7c1-4435-a4a6-df7e77e1dc66"
      },
      "execution_count": 4,
      "outputs": [
        {
          "output_type": "stream",
          "name": "stdout",
          "text": [
            "Epoch 0, Loss: 6401.572957891262\n",
            "Epoch 0, Loss: 6399.278753882174\n",
            "Epoch 0, Loss: 6399.908279117619\n",
            "Sigmoid Activation Test Accuracy: 0.8029449978345604\n",
            "ReLU Activation Test Accuracy: 0.8029449978345604\n",
            "Tanh Activation Test Accuracy: 0.8029449978345604\n"
          ]
        }
      ]
    },
    {
      "cell_type": "code",
      "source": [
        "import matplotlib.pyplot as plt\n",
        "\n",
        "# Plot loss over epochs for different activations\n",
        "plt.plot(loss_sigmoid, label='Sigmoid')\n",
        "plt.plot(loss_relu, label='ReLU')\n",
        "plt.plot(loss_tanh, label='Tanh')\n",
        "plt.xlabel('Epochs')\n",
        "plt.ylabel('Loss')\n",
        "plt.title('Loss Over Epochs for Different Activation Functions')\n",
        "plt.legend()\n",
        "plt.show()\n"
      ],
      "metadata": {
        "colab": {
          "base_uri": "https://localhost:8080/",
          "height": 472
        },
        "id": "9RTgVfESGkAw",
        "outputId": "84cabe1b-3a9c-48e3-cdbd-79ff37e08222"
      },
      "execution_count": 5,
      "outputs": [
        {
          "output_type": "display_data",
          "data": {
            "text/plain": [
              "<Figure size 640x480 with 1 Axes>"
            ],
            "image/png": "[encoded data removed]"
          },
          "metadata": {}
        }
      ]
    },
    {
      "cell_type": "markdown",
      "source": [
        "### Key Concepts in Sentiment Analysis Using Neural Networks\n",
        "\n",
        "1. **Sentiment Classification**:\n",
        "   - The task of categorizing text data (e.g., tweets) into sentiment classes (e.g., positive or negative).\n",
        "   - This is typically a binary classification problem.\n",
        "\n",
        "2. **Neural Networks**:\n",
        "   - A computational model inspired by the human brain, consisting of layers of interconnected nodes (neurons) that process input data.\n",
        "   - The architecture typically includes:\n",
        "     - **Input Layer**: Receives the input features (e.g., vectorized text).\n",
        "     - **Hidden Layers**: Intermediate layers that learn complex patterns in the data.\n",
        "     - **Output Layer**: Produces the final prediction (e.g., sentiment class).\n",
        "\n",
        "3. **Activation Functions**:\n",
        "   - Functions applied to the output of neurons to introduce non-linearity into the model. Common activation functions include:\n",
        "   - **Sigmoid**:\n",
        "     $$\n",
        "     \\sigma(z) = \\frac{1}{1 + e^{-z}}\n",
        "     $$\n",
        "     - Outputs values between $0$ and $1$, often used in binary classification tasks.\n",
        "   - **ReLU (Rectified Linear Unit)**:\n",
        "     $$\n",
        "     \\text{ReLU}(z) = \\max(0, z)\n",
        "     $$\n",
        "     - Allows positive values to pass through while blocking negative values, helping to mitigate the vanishing gradient problem.\n",
        "   - **Tanh**:\n",
        "     $$\n",
        "     \\tanh(z) = \\frac{e^z - e^{-z}}{e^z + e^{-z}}\n",
        "     $$\n",
        "     - Outputs values between $-1$ and $1$, providing a zero-centered output.\n",
        "\n",
        "4. **Backpropagation**:\n",
        "   - A training algorithm that optimizes the weights of the neural network by minimizing the error.\n",
        "   - It involves:\n",
        "    - **Forward Pass**: Calculating the output of the network given an input.\n",
        "    - **Loss Calculation**: Determining the difference between the predicted output and the true label using a loss function (e.g., Binary Cross-Entropy).\n",
        "    - **Backward Pass**: Calculating gradients of the loss with respect to each weight using the chain rule, allowing for weight updates to minimize loss.\n",
        "\n",
        "5. **Loss Function**:\n",
        "   - A measure of how well the model's predictions match the actual labels.\n",
        "   -  For binary classification, the Binary Cross-Entropy loss is commonly used:\n",
        "   $$\n",
        "   \\text{Loss} = -\\frac{1}{m} \\sum_{i=1}^{m} \\left[ y_i \\log(\\hat{y}_i) + (1 - y_i) \\log(1 - \\hat{y}_i) \\right]\n",
        "   $$\n",
        "   where $y_i$ is the true label, $\\hat{y}_i$ is the predicted probability, and $m$ is the number of samples.\n",
        "\n",
        "6. **Model Evaluation**:\n",
        "   - Assessing the performance of the trained model using metrics such as accuracy, precision, and recall. Accuracy is calculated as:\n",
        "   $$\n",
        "   \\text{Accuracy} = \\frac{\\text{Number of Correct Predictions}}{\\text{Total Predictions}}\n",
        "   $$"
      ],
      "metadata": {
        "id": "cYIx4yFGMK5U"
      }
    }
  ]
}